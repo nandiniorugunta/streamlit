{
  "cells": [
    {
      "cell_type": "markdown",
      "metadata": {
        "id": "view-in-github",
        "colab_type": "text"
      },
      "source": [
        "<a href=\"https://colab.research.google.com/github/nandiniorugunta/streamlit/blob/main/code1.ipynb\" target=\"_parent\"><img src=\"https://colab.research.google.com/assets/colab-badge.svg\" alt=\"Open In Colab\"/></a>"
      ]
    },
    {
      "cell_type": "markdown",
      "metadata": {
        "id": "FCLdeT3C9GpG"
      },
      "source": []
    },
    {
      "cell_type": "markdown",
      "metadata": {
        "id": "uTGn4ySN9Gkp"
      },
      "source": []
    },
    {
      "cell_type": "code",
      "execution_count": 7,
      "metadata": {
        "colab": {
          "base_uri": "https://localhost:8080/"
        },
        "id": "lx6qWmEAdDmV",
        "outputId": "e6cdf5a7-d304-498d-a31e-3fab8e014147"
      },
      "outputs": [
        {
          "output_type": "stream",
          "name": "stdout",
          "text": [
            "Overwriting python.py\n"
          ]
        }
      ],
      "source": [
        "%%writefile python.py\n",
        "import streamlit as st\n",
        "import pandas as pd\n",
        "st.title(\"JNTUA COLLEGE OF ENGINEERING KALIKIRI\")\n",
        "import streamlit as st\n",
        "\n",
        "# Function to authenticate users\n",
        "def authenticate(username, password):\n",
        "    # Hardcoded username and password (replace with actual authentication logic)\n",
        "    VALID_USERNAME = \"jntuacek\"\n",
        "    VALID_PASSWORD = \"ece\"\n",
        "\n",
        "    if username == VALID_USERNAME and password == VALID_PASSWORD:\n",
        "        return True\n",
        "    else:\n",
        "        return False\n",
        "\n",
        "# Streamlit app\n",
        "def main():\n",
        "    # If user is not authenticated, show login form\n",
        "    if 'authenticated' not in st.session_state or not st.session_state.authenticated:\n",
        "        st.subheader('Login')\n",
        "        username = st.text_input('Username')\n",
        "        password = st.text_input('Password', type='password')\n",
        "        if st.button('Login'):\n",
        "            if authenticate(username, password):\n",
        "                st.session_state.authenticated = True\n",
        "                st.success('You have successfully logged in!')\n",
        "            else:\n",
        "                st.error('Invalid username or password. Please try again.')\n",
        "\n",
        "    # If user is authenticated, show the content\n",
        "    if 'authenticated' in st.session_state and st.session_state.authenticated:\n",
        "        st.subheader('Authenticated Content')\n",
        "        uploaded_file = st.file_uploader(\"Upload your file\")\n",
        "        if uploaded_file is not None:\n",
        "            file_contents = uploaded_file.read()\n",
        "            df=pd.read_excel(file_contents)\n",
        "            df = df.fillna(\"\")\n",
        "            st.dataframe(df)\n",
        "        df['Unnamed: 12'] = pd.to_numeric(df['Unnamed: 12'], errors='coerce')\n",
        "        df['Unnamed: 2'] = pd.to_numeric(df['Unnamed: 2'], errors='coerce')\n",
        "        df['Unnamed: 3'] = pd.to_numeric(df['Unnamed: 3'], errors='coerce')\n",
        "        df['Unnamed: 4'] = pd.to_numeric(df['Unnamed: 4'], errors='coerce')\n",
        "        df['Unnamed: 5'] = pd.to_numeric(df['Unnamed: 5'], errors='coerce')\n",
        "        df['Unnamed: 6'] = pd.to_numeric(df['Unnamed: 6'], errors='coerce')\n",
        "        df['Unnamed: 7'] = pd.to_numeric(df['Unnamed: 7'], errors='coerce')\n",
        "        df['Unnamed: 8'] = pd.to_numeric(df['Unnamed: 8'], errors='coerce')\n",
        "        df['Unnamed: 9'] = pd.to_numeric(df['Unnamed: 9'], errors='coerce')\n",
        "        df['Unnamed: 10'] = pd.to_numeric(df['Unnamed: 10'], errors='coerce')\n",
        "\n",
        "        st.sidebar.title(\"result analysis\")\n",
        "        if st.sidebar.button(\"1st class with Distinction(>70%)\"):\n",
        "            d=df.loc[df['Unnamed: 12']>=70]\n",
        "            st.sidebar.write(\"count:\",len(d))\n",
        "        if st.sidebar.button(\"1st class(60%-70%)\"):\n",
        "            e=df.loc[(df['Unnamed: 12']>=60)&(df['Unnamed: 12']<=70)]\n",
        "            st.sidebar.write(\"count:\",len(e))\n",
        "        if st.sidebar.button(\"2nd class(50%-60%)\"):\n",
        "            g=df.loc[(df['Unnamed: 12']>=50)&(df['Unnamed: 12']<=60)]\n",
        "            st.sidebar.write(\"count:\",len(g))\n",
        "        if st.sidebar.button(\"Failures(<40%)\"):\n",
        "            f=df.loc[df['Unnamed: 12']<=40]\n",
        "            st.sidebar.write(\"count:\",len(f))\n",
        "        st.sidebar.title(\"SUBJECT WISE PASS%:\")\n",
        "        if st.sidebar.button(\"EDC:\"):\n",
        "            value = df.iloc[69,2]\n",
        "            st.sidebar.write(value*100)\n",
        "        if st.sidebar.button(\"DE&VC:\"):\n",
        "            value = df.iloc[69,3]\n",
        "            st.sidebar.write(value*100)\n",
        "        if st.sidebar.button(\"CP&DS:\"):\n",
        "            value = df.iloc[69,4]\n",
        "            st.sidebar.write(value*100)\n",
        "        if st.sidebar.button(\"CHY:\"):\n",
        "            value = df.iloc[69,5]\n",
        "            st.sidebar.write(value*100)\n",
        "        if st.sidebar.button(\"IT WORKSHOP:\"):\n",
        "            value = df.iloc[69,6]\n",
        "            st.sidebar.write(value*100)\n",
        "        if st.sidebar.button(\"ENG WORKSHOP:\"):\n",
        "            value = df.iloc[69,7]\n",
        "            st.sidebar.write(value*100)\n",
        "        if st.sidebar.button(\"CHY LAB:\"):\n",
        "            value = df.iloc[69,8]\n",
        "            st.sidebar.write(value*100)\n",
        "        if st.sidebar.button(\"CP&DS LAB:\"):\n",
        "            value = df.iloc[69,9]\n",
        "            st.sidebar.write(value*100)\n",
        "        if st.sidebar.button(\"TOTAL PASS%\"):\n",
        "\n",
        "            st.sidebar.write(\"57.89\")\n",
        "\n",
        "        st.sidebar.title(\"SUB wise Fail Candidates:\")\n",
        "        if st.sidebar.button(\"EDC\"):\n",
        "            f=df.loc[df['Unnamed: 2']<25]\n",
        "            st.sidebar.write(\"count:\",len(f)-1)\n",
        "        if st.sidebar.button(\"DE&VC\"):\n",
        "            f=df.loc[df['Unnamed: 3']<25]\n",
        "            st.sidebar.write(\"count:\",len(f)-1)\n",
        "        if st.sidebar.button(\"CP&DS\"):\n",
        "            f=df.loc[df['Unnamed: 4']<25]\n",
        "            st.sidebar.write(\"count:\",len(f)-1)\n",
        "        if st.sidebar.button(\"CHY\"):\n",
        "            f=df.loc[df['Unnamed: 5']<25]\n",
        "            st.sidebar.write(\"count:\",len(f)-1)\n",
        "        if st.sidebar.button(\"IT WORKSHOP\"):\n",
        "            f=df.loc[df['Unnamed: 6']<25]\n",
        "            st.sidebar.write(\"count:\",len(f)-1)\n",
        "        if st.sidebar.button(\"ENGG WORKSHOP\"):\n",
        "            f=df.loc[df['Unnamed: 7']<25]\n",
        "            st.sidebar.write(\"count:\",len(f)-1)\n",
        "        if st.sidebar.button(\"EDC LAB\"):\n",
        "            f=df.loc[df['Unnamed: 8']<25]\n",
        "            st.sidebar.write(\"count:\",len(f)-1)\n",
        "        if st.sidebar.button(\"CP&DS LAB\"):\n",
        "            f=df.loc[df['Unnamed: 9']<25]\n",
        "            st.sidebar.write(\"count:\",len(f)-1)\n",
        "        if st.sidebar.button(\"CHY LAB\"):\n",
        "            f=df.loc[df['Unnamed: 10']<25]\n",
        "            st.sidebar.write(\"count:\",len(f)-1)\n",
        "\n",
        "\n",
        "if __name__ == '__main__':\n",
        "    main()\n",
        "\n"
      ]
    },
    {
      "cell_type": "markdown",
      "metadata": {
        "id": "MFOCGIJeV8Xm"
      },
      "source": []
    },
    {
      "cell_type": "markdown",
      "metadata": {
        "id": "4lWRQjvlV8Eh"
      },
      "source": []
    },
    {
      "cell_type": "code",
      "source": [],
      "metadata": {
        "id": "I_9Bp1OyHdjo"
      },
      "execution_count": null,
      "outputs": []
    }
  ],
  "metadata": {
    "colab": {
      "provenance": [],
      "authorship_tag": "ABX9TyPndoaNz7xjMBh1YzwpLk6O",
      "include_colab_link": true
    },
    "kernelspec": {
      "display_name": "Python 3",
      "name": "python3"
    },
    "language_info": {
      "name": "python"
    }
  },
  "nbformat": 4,
  "nbformat_minor": 0
}